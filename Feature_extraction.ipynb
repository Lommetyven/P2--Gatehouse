{
 "cells": [
  {
   "cell_type": "code",
   "execution_count": null,
   "id": "fe80107b",
   "metadata": {},
   "outputs": [],
   "source": [
    "import pandas as pd\n",
    "import numpy as np\n",
    "import sys\n",
    "import os\n",
    "from tsfresh import extract_features\n",
    "from tsfresh.utilities.dataframe_functions import make_forecasting_frame\n"
   ]
  },
  {
   "cell_type": "code",
   "execution_count": null,
   "id": "5b5971cc",
   "metadata": {},
   "outputs": [],
   "source": [
    "df = pd.read_csv(r\"C:\\Users\\User\\Desktop\\Final_data_merged_v2.csv\")"
   ]
  },
  {
   "cell_type": "code",
   "execution_count": null,
   "id": "8c5354eb",
   "metadata": {},
   "outputs": [],
   "source": [
    "\n",
    "df = pd.read_csv(\"your_input_file.csv\")\n",
    "\n",
    "df[\"Timestamp\"] = pd.to_datetime(df[\"Timestamp\"])\n",
    "\n",
    "df = df.sort_values([\"MMSI\", \"Timestamp\"])\n",
    "\n",
    "window_size = pd.Timedelta(\"1h\")\n",
    "\n",
    "#Generer et window_id for hver 1-times blok for hvert skib\n",
    "df[\"window_id\"] = (\n",
    "    df.groupby(\"MMSI\")[\"Timestamp\"]\n",
    "    .transform(lambda x: ((x - x.min()) // window_size).astype(int))\n",
    ")\n",
    "\n",
    "#Kombinér MMSI og vindue for unik ID\n",
    "df[\"window_id\"] = df[\"MMSI\"].astype(str) + \"_\" + df[\"window_id\"].astype(str)\n",
    "\n",
    "\n",
    "value_columns = [\"ROT\", \"SOG\", \"COG\", \"Heading\"]\n",
    "\n",
    "#Lav long-format dataframe til TSfresh\n",
    "df_long = df[[\"window_id\", \"Timestamp\"] + value_columns].melt(\n",
    "    id_vars=[\"window_id\", \"Timestamp\"],\n",
    "    value_vars=value_columns,\n",
    "    var_name=\"variable\",\n",
    "    value_name=\"value\"\n",
    ")\n",
    "\n",
    "# 9. Omdøb så det matcher TSfresh's format\n",
    "df_long = df_long.rename(columns={\"window_id\": \"id\", \"Timestamp\": \"time\"})\n",
    "\n",
    "# 10. Kør TSfresh\n",
    "features = extract_features(\n",
    "    df_long,\n",
    "    column_id=\"id\",\n",
    "    column_sort=\"time\",\n",
    "    column_kind=\"variable\",\n",
    "    column_value=\"value\",\n",
    "    disable_progressbar=True\n",
    ")\n",
    "\n",
    "#beregn også mean for hver feature i vindue\n",
    "mean_features = df.groupby(\"window_id\")[value_columns].mean().add_suffix(\"_mean\")\n",
    "\n",
    "#Træk MMSI og label ud fra første række i hvert vindue\n",
    "meta = df.groupby(\"window_id\").agg({\n",
    "    \"MMSI\": \"first\",\n",
    "    \"Label\": \"first\"\n",
    "})\n",
    "\n",
    "#Saml alt i ét slut-dataframe\n",
    "final_df = pd.concat([features, mean_features, meta], axis=1).reset_index().rename(columns={\"index\": \"window_id\"})\n",
    "\n",
    "#Gem som CSV\n",
    "final_df.to_csv(r\"C:\\Users\\User\\Desktop\\P2\", index=False)\n"
   ]
  }
 ],
 "metadata": {
  "kernelspec": {
   "display_name": "Python 3",
   "language": "python",
   "name": "python3"
  },
  "language_info": {
   "codemirror_mode": {
    "name": "ipython",
    "version": 3
   },
   "file_extension": ".py",
   "mimetype": "text/x-python",
   "name": "python",
   "nbconvert_exporter": "python",
   "pygments_lexer": "ipython3",
   "version": "3.10.6"
  }
 },
 "nbformat": 4,
 "nbformat_minor": 5
}
