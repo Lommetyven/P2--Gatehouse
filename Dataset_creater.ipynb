{
 "cells": [
  {
   "cell_type": "code",
   "execution_count": 1,
   "metadata": {},
   "outputs": [],
   "source": [
    "import pandas as pd\n",
    "import numpy as np\n",
    "import glob\n",
    "import os\n"
   ]
  },
  {
   "cell_type": "code",
   "execution_count": null,
   "metadata": {},
   "outputs": [],
   "source": [
    "#Indsæt fil sti \n",
    "folder_path = r\"\"\n",
    "\n",
    "all_files = glob.glob(os.path.join(folder_path, '*.csv'))\n",
    "\n",
    "\n",
    "df_list = []\n",
    "\n",
    "for file in all_files:\n",
    "    try:\n",
    "        df = pd.read_csv(file)\n",
    "        df_list.append(df)\n",
    "    except Exception as e:\n",
    "        print(f\"Failed to load {file}: {e}\")\n",
    "\n",
    "df = pd.concat(df_list, ignore_index=True)\n"
   ]
  },
  {
   "cell_type": "code",
   "execution_count": null,
   "metadata": {},
   "outputs": [
    {
     "name": "stderr",
     "output_type": "stream",
     "text": [
      "C:\\Users\\tobia\\AppData\\Local\\Temp\\ipykernel_12372\\3316817758.py:1: UserWarning: Parsing dates in %d/%m/%Y %H:%M:%S format when dayfirst=False (the default) was specified. Pass `dayfirst=True` or specify a format to silence this warning.\n",
      "  df['# Timestamp'] = pd.to_datetime(df['# Timestamp'])\n"
     ]
    }
   ],
   "source": [
    "df['# Timestamp'] = pd.to_datetime(df['# Timestamp'], dayfirst=True)\n",
    "df = df[df['Type of mobile'] == 'Class A'].reset_index(drop=True)"
   ]
  },
  {
   "cell_type": "code",
   "execution_count": 4,
   "metadata": {},
   "outputs": [
    {
     "name": "stdout",
     "output_type": "stream",
     "text": [
      "['Class A']\n"
     ]
    }
   ],
   "source": [
    "print(df['Type of mobile'].unique())\n"
   ]
  },
  {
   "cell_type": "code",
   "execution_count": 5,
   "metadata": {},
   "outputs": [
    {
     "name": "stdout",
     "output_type": "stream",
     "text": [
      "27753377\n"
     ]
    }
   ],
   "source": [
    "print(df.shape[0])\n"
   ]
  },
  {
   "cell_type": "code",
   "execution_count": 6,
   "metadata": {},
   "outputs": [],
   "source": [
    "df.drop_duplicates(inplace=True)"
   ]
  },
  {
   "cell_type": "code",
   "execution_count": 7,
   "metadata": {},
   "outputs": [
    {
     "name": "stdout",
     "output_type": "stream",
     "text": [
      "17254087\n"
     ]
    }
   ],
   "source": [
    "print(df.shape[0])"
   ]
  },
  {
   "cell_type": "code",
   "execution_count": 8,
   "metadata": {},
   "outputs": [
    {
     "name": "stdout",
     "output_type": "stream",
     "text": [
      "0\n"
     ]
    }
   ],
   "source": [
    "duplicates = df.duplicated()\n",
    "print(duplicates.sum())\n"
   ]
  },
  {
   "cell_type": "code",
   "execution_count": 9,
   "metadata": {},
   "outputs": [
    {
     "name": "stderr",
     "output_type": "stream",
     "text": [
      "C:\\Users\\tobia\\AppData\\Local\\Temp\\ipykernel_12372\\247424872.py:8: DeprecationWarning: DataFrameGroupBy.apply operated on the grouping columns. This behavior is deprecated, and in a future version of pandas the grouping columns will be excluded from the operation. Either pass `include_groups=False` to exclude the groupings or explicitly select the grouping columns after groupby to silence this warning.\n",
      "  coordinate_ranges = df.groupby('MMSI').apply(calculate_coordinate_range).reset_index()\n"
     ]
    }
   ],
   "source": [
    "# Calculate the range of latitude and longitude for each MMSI\n",
    "def calculate_coordinate_range(group):\n",
    "    lat_range = group['Latitude'].max() - group['Latitude'].min()\n",
    "    lon_range = group['Longitude'].max() - group['Longitude'].min()\n",
    "    return pd.Series({'Lat_Range': lat_range, 'Lon_Range': lon_range})\n",
    "\n",
    "# Group by MMSI and calculate latitude and longitude ranges\n",
    "coordinate_ranges = df.groupby('MMSI').apply(calculate_coordinate_range).reset_index()\n",
    "\n",
    "# Merge the result back to the original DataFrame\n",
    "df = df.merge(coordinate_ranges, on='MMSI', how='left')\n",
    "\n",
    "# Define thresholds for minimum movement in latitude and longitude\n",
    "lat_threshold = 0.01  # Adjust based on your data (e.g., ~1 km)\n",
    "lon_threshold = 0.01  # Adjust based on your data (e.g., ~1 km)\n",
    "\n",
    "# Filter out boats that moved less than the thresholds\n",
    "df = df[(df['Lat_Range'] >= lat_threshold) | (df['Lon_Range'] >= lon_threshold)].reset_index(drop=True)\n",
    "\n",
    "# Drop the range columns if no longer needed\n",
    "df.drop(columns=['Lat_Range', 'Lon_Range'], inplace=True)"
   ]
  },
  {
   "cell_type": "code",
   "execution_count": 10,
   "metadata": {},
   "outputs": [],
   "source": [
    "#hvis vi får lyst til og afgrænse data til et bestemt område, kan vi gøre det her\n",
    "\n",
    "\n",
    "# min_lat = 55.8    # syd\n",
    "# max_lat = 58.2    # nord\n",
    "# min_lon = 10.5    # west\n",
    "# max_lon = 12.0    # øst\n",
    "\n",
    "\n",
    "# df = df[\n",
    "#     (df['Latitude'] >= min_lat) & (df['Latitude'] <= max_lat) &\n",
    "#     (df['Longitude'] >= min_lon) & (df['Longitude'] <= max_lon)\n",
    "# ].reset_index(drop=True)\n"
   ]
  },
  {
   "cell_type": "code",
   "execution_count": 11,
   "metadata": {},
   "outputs": [
    {
     "name": "stdout",
     "output_type": "stream",
     "text": [
      "Index(['# Timestamp', 'Type of mobile', 'MMSI', 'Latitude', 'Longitude',\n",
      "       'Navigational status', 'ROT', 'SOG', 'COG', 'Heading', 'IMO',\n",
      "       'Callsign', 'Name', 'Ship type', 'Cargo type', 'Width', 'Length',\n",
      "       'Type of position fixing device', 'Draught', 'Destination', 'ETA',\n",
      "       'Data source type', 'A', 'B', 'C', 'D'],\n",
      "      dtype='object')\n"
     ]
    }
   ],
   "source": [
    "print(df.columns)"
   ]
  },
  {
   "cell_type": "code",
   "execution_count": 12,
   "metadata": {},
   "outputs": [],
   "source": [
    "df = df.sort_values(by=['MMSI', '# Timestamp']).reset_index(drop=True)\n"
   ]
  },
  {
   "cell_type": "code",
   "execution_count": null,
   "metadata": {},
   "outputs": [],
   "source": [
    "#indsæt fil sti til output af ny samlet fil\n",
    "\n",
    "df.to_csv(, index=False)\n",
    "\n"
   ]
  },
  {
   "cell_type": "code",
   "execution_count": 14,
   "metadata": {},
   "outputs": [
    {
     "name": "stdout",
     "output_type": "stream",
     "text": [
      "13125445\n"
     ]
    }
   ],
   "source": [
    "print(df.shape[0])"
   ]
  },
  {
   "cell_type": "code",
   "execution_count": null,
   "metadata": {},
   "outputs": [],
   "source": []
  }
 ],
 "metadata": {
  "kernelspec": {
   "display_name": "Python (my_env)",
   "language": "python",
   "name": "my_env"
  },
  "language_info": {
   "codemirror_mode": {
    "name": "ipython",
    "version": 3
   },
   "file_extension": ".py",
   "mimetype": "text/x-python",
   "name": "python",
   "nbconvert_exporter": "python",
   "pygments_lexer": "ipython3",
   "version": "3.12.10"
  }
 },
 "nbformat": 4,
 "nbformat_minor": 2
}
