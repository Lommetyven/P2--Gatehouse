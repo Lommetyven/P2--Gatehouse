{
 "cells": [
  {
   "cell_type": "code",
   "execution_count": 8,
   "id": "e6e16f88",
   "metadata": {},
   "outputs": [],
   "source": [
    "import pandas as pd\n",
    "from sklearn.model_selection import train_test_split\n",
    "from xgboost import XGBClassifier\n",
    "from sklearn.linear_model import LogisticRegression\n",
    "from sklearn.metrics import (\n",
    "    classification_report,\n",
    "    roc_auc_score,\n",
    "    confusion_matrix,\n",
    "    ConfusionMatrixDisplay\n",
    ")\n",
    "import matplotlib.pyplot as plt"
   ]
  },
  {
   "cell_type": "code",
   "execution_count": 9,
   "id": "54220d8d",
   "metadata": {},
   "outputs": [],
   "source": [
    "df = pd.read_csv(r'C:\\Users\\anne\\Desktop\\Daki\\s2\\projekter\\P2\\Final_PCA.csv')\n",
    "\n",
    "# Split into features and target\n",
    "X = df[[\"PC1\", \"PC2\"]].values\n",
    "y = df[\"Label\"].values\n",
    "\n",
    "# Train/test split\n",
    "X_train, X_test, y_train, y_test = train_test_split(X, y, test_size=0.2, random_state=42, stratify=y)"
   ]
  },
  {
   "cell_type": "code",
   "execution_count": 10,
   "id": "38ca662b",
   "metadata": {},
   "outputs": [
    {
     "name": "stderr",
     "output_type": "stream",
     "text": [
      "c:\\Users\\anne\\AppData\\Local\\Programs\\Python\\Python312\\Lib\\site-packages\\xgboost\\core.py:158: UserWarning: [13:43:03] WARNING: C:\\buildkite-agent\\builds\\buildkite-windows-cpu-autoscaling-group-i-0c55ff5f71b100e98-1\\xgboost\\xgboost-ci-windows\\src\\learner.cc:740: \n",
      "Parameters: { \"use_label_encoder\" } are not used.\n",
      "\n",
      "  warnings.warn(smsg, UserWarning)\n"
     ]
    },
    {
     "name": "stdout",
     "output_type": "stream",
     "text": [
      "Classification Report:\n",
      "              precision    recall  f1-score   support\n",
      "\n",
      "       False       1.00      0.93      0.96      3120\n",
      "        True       0.26      0.96      0.40        80\n",
      "\n",
      "    accuracy                           0.93      3200\n",
      "   macro avg       0.63      0.95      0.68      3200\n",
      "weighted avg       0.98      0.93      0.95      3200\n",
      "\n",
      "ROC AUC: 0.985\n",
      "\n",
      "Confusion Matrix:\n",
      "[[2896  224]\n",
      " [   3   77]]\n"
     ]
    }
   ],
   "source": [
    "# Final model with best hyperparameters\n",
    "model = XGBClassifier(\n",
    "    n_estimators=300,\n",
    "    max_depth=2,\n",
    "    learning_rate=0.10,\n",
    "    subsample=0.9,\n",
    "    colsample_bytree=0.9,\n",
    "    scale_pos_weight=(y_train == 0).sum() / (y_train == 1).sum(),\n",
    "    use_label_encoder=False,\n",
    "    eval_metric='logloss',\n",
    "    random_state=42\n",
    ")\n",
    "\n",
    "# Fit & predict\n",
    "model.fit(X_train, y_train)\n",
    "y_pred  = model.predict(X_test)\n",
    "y_proba = model.predict_proba(X_test)[:, 1]\n",
    "\n",
    "# Evaluation\n",
    "print(\"Classification Report:\")\n",
    "print(classification_report(y_test, y_pred, target_names=['False','True']))\n",
    "\n",
    "print(f\"ROC AUC: {roc_auc_score(y_test, y_proba):.3f}\\n\")\n",
    "\n",
    "print(\"Confusion Matrix:\")\n",
    "print(confusion_matrix(y_test, y_pred))"
   ]
  },
  {
   "cell_type": "code",
   "execution_count": 11,
   "id": "cfbda8c4",
   "metadata": {},
   "outputs": [
    {
     "name": "stdout",
     "output_type": "stream",
     "text": [
      "Classification Report:\n",
      "              precision    recall  f1-score   support\n",
      "\n",
      "       False       1.00      0.69      0.82      3120\n",
      "        True       0.07      0.93      0.13        80\n",
      "\n",
      "    accuracy                           0.70      3200\n",
      "   macro avg       0.53      0.81      0.48      3200\n",
      "weighted avg       0.97      0.70      0.80      3200\n",
      "\n",
      "ROC AUC: 0.826\n",
      "\n",
      "Confusion Matrix:\n",
      "[[2167  953]\n",
      " [   6   74]]\n"
     ]
    }
   ],
   "source": [
    "# Final model with best hyperparameters (from your GridSearchCV)\n",
    "best_params = {\n",
    "    'penalty':       'l2',\n",
    "    'C':             1.0,\n",
    "    'class_weight': 'balanced',\n",
    "    'solver':       'liblinear',\n",
    "    'random_state': 42\n",
    "}\n",
    "\n",
    "model = LogisticRegression(**best_params)\n",
    "\n",
    "# Fit & predict\n",
    "model.fit(X_train, y_train)\n",
    "y_pred  = model.predict(X_test)\n",
    "y_proba = model.predict_proba(X_test)[:, 1]\n",
    "\n",
    "# Evaluation\n",
    "print(\"Classification Report:\")\n",
    "print(classification_report(y_test, y_pred, target_names=['False','True']))\n",
    "\n",
    "print(f\"ROC AUC: {roc_auc_score(y_test, y_proba):.3f}\\n\")\n",
    "\n",
    "print(\"Confusion Matrix:\")\n",
    "print(confusion_matrix(y_test, y_pred))"
   ]
  }
 ],
 "metadata": {
  "kernelspec": {
   "display_name": "Python 3",
   "language": "python",
   "name": "python3"
  },
  "language_info": {
   "codemirror_mode": {
    "name": "ipython",
    "version": 3
   },
   "file_extension": ".py",
   "mimetype": "text/x-python",
   "name": "python",
   "nbconvert_exporter": "python",
   "pygments_lexer": "ipython3",
   "version": "3.12.5"
  }
 },
 "nbformat": 4,
 "nbformat_minor": 5
}
